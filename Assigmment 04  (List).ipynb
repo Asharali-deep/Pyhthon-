{
 "cells": [
  {
   "cell_type": "markdown",
   "id": "953df081-100b-45f6-90a1-d0c491827113",
   "metadata": {},
   "source": [
    "# List Assignment "
   ]
  },
  {
   "cell_type": "markdown",
   "id": "be69bb41-4670-49c7-8143-bfcbc2ef64e5",
   "metadata": {},
   "source": [
    "#### 1. Write a program that accepts a list from user and print the alternate element of list."
   ]
  },
  {
   "cell_type": "code",
   "execution_count": 1,
   "id": "05eec47c-390a-42aa-8db2-c9c1171dd39a",
   "metadata": {},
   "outputs": [
    {
     "name": "stdin",
     "output_type": "stream",
     "text": [
      "Enter elements separated by space:  karach i\n"
     ]
    },
    {
     "name": "stdout",
     "output_type": "stream",
     "text": [
      "Alternate elements are:\n",
      "karach\n"
     ]
    }
   ],
   "source": [
    "# Take list input from user\n",
    "items = input(\"Enter elements separated by space: \").split()\n",
    "\n",
    "# Print alternate elements\n",
    "print(\"Alternate elements are:\")\n",
    "for i in range(0, len(items), 2):\n",
    "    print(items[i])\n"
   ]
  },
  {
   "cell_type": "markdown",
   "id": "800f19fa-64be-4251-9d57-4f4687b5c15c",
   "metadata": {},
   "source": [
    "#### 2. Reverse a list (without reverse() method)"
   ]
  },
  {
   "cell_type": "code",
   "execution_count": 3,
   "id": "580b8c20-9654-4e14-8571-bef3ad4774c7",
   "metadata": {},
   "outputs": [
    {
     "name": "stdin",
     "output_type": "stream",
     "text": [
      "Enter elements separated by space:  peshawar \n"
     ]
    },
    {
     "name": "stdout",
     "output_type": "stream",
     "text": [
      "Reversed list: ['peshawar']\n"
     ]
    }
   ],
   "source": [
    "items = input(\"Enter elements separated by space: \").split()\n",
    "\n",
    "# Reverse manually using slicing\n",
    "reversed_list = items[::-1]\n",
    "\n",
    "print(\"Reversed list:\", reversed_list)\n"
   ]
  },
  {
   "cell_type": "markdown",
   "id": "2011e7b3-5bb5-4fb6-aa7d-67924deb042c",
   "metadata": {},
   "source": [
    "####  3. Find and display the largest number of a list without using built-in function max(). Your program\n",
    "should ask the user to input values in list from keyboard. "
   ]
  },
  {
   "cell_type": "code",
   "execution_count": 4,
   "id": "c3fef1da-c454-4cdf-b8c1-c2b06c372067",
   "metadata": {},
   "outputs": [
    {
     "name": "stdin",
     "output_type": "stream",
     "text": [
      "Enter numbers separated by space:  1 2 3\n"
     ]
    },
    {
     "name": "stdout",
     "output_type": "stream",
     "text": [
      "Largest number is: 3\n"
     ]
    }
   ],
   "source": [
    "nums = list(map(int, input(\"Enter numbers separated by space: \").split()))\n",
    "\n",
    "largest = nums[0]   # assume first number is largest\n",
    "for n in nums:\n",
    "    if n > largest:\n",
    "        largest = n\n",
    "\n",
    "print(\"Largest number is:\", largest)\n"
   ]
  },
  {
   "cell_type": "markdown",
   "id": "fddb491d-63ca-4318-89f4-1faea11889f6",
   "metadata": {},
   "source": [
    "####   4. Write a program that rotates the element of a list so that the element at the first index moves to the\n",
    "second index, the element in the second index moves to the third index, etc., and the element in the last\n",
    "index moves to the first index. \n"
   ]
  },
  {
   "cell_type": "code",
   "execution_count": 5,
   "id": "cfee2159-c44e-4565-a2be-c9496cb63807",
   "metadata": {},
   "outputs": [
    {
     "name": "stdin",
     "output_type": "stream",
     "text": [
      "Enter elements separated by space:  karachi university\n"
     ]
    },
    {
     "name": "stdout",
     "output_type": "stream",
     "text": [
      "Rotated list: ['university', 'karachi']\n"
     ]
    }
   ],
   "source": [
    "items = input(\"Enter elements separated by space: \").split()\n",
    "\n",
    "# Rotate (last element comes to front)\n",
    "rotated = [items[-1]] + items[:-1]\n",
    "\n",
    "print(\"Rotated list:\", rotated)\n",
    "\n"
   ]
  },
  {
   "cell_type": "markdown",
   "id": "31dcbb87-d8dd-4b50-9806-384778288d8d",
   "metadata": {},
   "source": [
    "#### 5. Delete a given word from string"
   ]
  },
  {
   "cell_type": "code",
   "execution_count": 7,
   "id": "e49381fc-1928-4fcc-b622-453f835bf3c4",
   "metadata": {},
   "outputs": [
    {
     "name": "stdin",
     "output_type": "stream",
     "text": [
      "Enter a string:  Dilszhad Ali\n",
      "Enter word to delete:  z\n"
     ]
    },
    {
     "name": "stdout",
     "output_type": "stream",
     "text": [
      "After deleting: Dilshad Ali\n"
     ]
    }
   ],
   "source": [
    "text = input(\"Enter a string: \")\n",
    "word = input(\"Enter word to delete: \")\n",
    "\n",
    "# Replace the word with empty string\n",
    "new_text = text.replace(word, \"\")\n",
    "print(\"After deleting:\", new_text)\n",
    "\n"
   ]
  },
  {
   "cell_type": "markdown",
   "id": "86f26a8d-9a2e-4ae3-b764-4ffe011944b8",
   "metadata": {},
   "source": [
    "### 6. Format date (mm/dd/yyyy → Month dd, yyyy"
   ]
  },
  {
   "cell_type": "code",
   "execution_count": 12,
   "id": "b344c4aa-d794-4bd7-99ad-8974ffb96058",
   "metadata": {},
   "outputs": [
    {
     "name": "stdin",
     "output_type": "stream",
     "text": [
      "Enter date (mm/dd/yyyy):  09/25/2002\n"
     ]
    },
    {
     "name": "stdout",
     "output_type": "stream",
     "text": [
      "September 25, 2002\n"
     ]
    }
   ],
   "source": [
    "# Ask user for date in mm/dd/yyyy format\n",
    "date = input(\"Enter date (mm/dd/yyyy): \")\n",
    "\n",
    "# List of month names\n",
    "months = [\"January\", \"February\", \"March\", \"April\", \"May\", \"June\",\n",
    "          \"July\", \"August\", \"September\", \"October\", \"November\", \"December\"]\n",
    "\n",
    "# Split the date into parts\n",
    "mm, dd, yyyy = date.split(\"/\")\n",
    "\n",
    "# Convert month into number (string → int → index)\n",
    "mm = int(mm)\n",
    "\n",
    "# Print in required format\n",
    "print(f\"{months[mm-1]} {dd}, {yyyy}\")\n"
   ]
  },
  {
   "cell_type": "markdown",
   "id": "e21337d6-4f27-452d-b58c-49c0652aa987",
   "metadata": {},
   "source": [
    "#### 7. Capitalize each word"
   ]
  },
  {
   "cell_type": "code",
   "execution_count": 13,
   "id": "85e45be7-0962-4dac-88e2-8b6ac1ed73b6",
   "metadata": {},
   "outputs": [
    {
     "name": "stdin",
     "output_type": "stream",
     "text": [
      "Enter a sentence:  I am a software engineering student\n"
     ]
    },
    {
     "name": "stdout",
     "output_type": "stream",
     "text": [
      "Capitalized: I Am A Software Engineering Student\n"
     ]
    }
   ],
   "source": [
    "def capitalize_words(sentence):\n",
    "    result = \"\"\n",
    "    capitalize_next = True\n",
    "    for ch in sentence:\n",
    "        if capitalize_next and ch.isalpha():\n",
    "            result += ch.upper()\n",
    "            capitalize_next = False\n",
    "        else:\n",
    "            result += ch.lower()\n",
    "        if ch == \" \":\n",
    "            capitalize_next = True\n",
    "    return result\n",
    "\n",
    "text = input(\"Enter a sentence: \")\n",
    "print(\"Capitalized:\", capitalize_words(text))\n"
   ]
  },
  {
   "cell_type": "markdown",
   "id": "bf18cd62-69cd-45fa-98c5-b652a58051a2",
   "metadata": {},
   "source": [
    "#### 8. Find the sum of each row of matrix of size m x n. For example for the following matrix output will be\n",
    "like this :\n",
    "Sum of row 1 = 32\n",
    "Sum of row 2 = 31\n",
    "Sum of row 3 = 63 \n",
    "`"
   ]
  },
  {
   "cell_type": "code",
   "execution_count": 14,
   "id": "bda0b2df-f4a8-438e-9cfa-9638ca8ffa88",
   "metadata": {},
   "outputs": [
    {
     "name": "stdout",
     "output_type": "stream",
     "text": [
      "Sum of row 1 = 32\n",
      "Sum of row 2 = 31\n",
      "Sum of row 3 = 63\n"
     ]
    }
   ],
   "source": [
    "# Example 3x3 matrix\n",
    "matrix = [\n",
    "    [5, 7, 20],\n",
    "    [6, 10, 15],\n",
    "    [20, 15, 28]\n",
    "]\n",
    "\n",
    "for i in range(len(matrix)):\n",
    "    row_sum = sum(matrix[i])\n",
    "    print(\"Sum of row\", i+1, \"=\", row_sum)\n"
   ]
  },
  {
   "cell_type": "markdown",
   "id": "50180396-eba1-4e0a-b3f0-b67e6fbc94b1",
   "metadata": {},
   "source": [
    "#### 9. Add two matrices"
   ]
  },
  {
   "cell_type": "code",
   "execution_count": 15,
   "id": "ad9375a5-88bd-48ed-bf99-b30bb0987c2f",
   "metadata": {},
   "outputs": [
    {
     "name": "stdout",
     "output_type": "stream",
     "text": [
      "Matrix Addition:\n",
      "[6, 8]\n",
      "[10, 12]\n"
     ]
    }
   ],
   "source": [
    "# Example 2x2 matrices\n",
    "A = [[1, 2], [3, 4]]\n",
    "B = [[5, 6], [7, 8]]\n",
    "\n",
    "# Result matrix\n",
    "result = [[0, 0], [0, 0]]\n",
    "\n",
    "for i in range(len(A)):\n",
    "    for j in range(len(A[0])):\n",
    "        result[i][j] = A[i][j] + B[i][j]\n",
    "\n",
    "print(\"Matrix Addition:\")\n",
    "for row in result:\n",
    "    print(row)\n",
    "\n"
   ]
  },
  {
   "cell_type": "markdown",
   "id": "774875cb-cb89-4999-9ccf-5b644f31994b",
   "metadata": {},
   "source": [
    "#  Write a program to multiply two matrices "
   ]
  },
  {
   "cell_type": "code",
   "execution_count": 16,
   "id": "81e2d284-fd1c-4a62-a92d-da27eefb8b5d",
   "metadata": {},
   "outputs": [
    {
     "name": "stdout",
     "output_type": "stream",
     "text": [
      "Matrix Multiplication:\n",
      "[25, 28]\n",
      "[57, 64]\n",
      "[89, 100]\n"
     ]
    }
   ],
   "source": [
    "# Example matrices\n",
    "A = [[1, 2], [3, 4], [5, 6]]\n",
    "B = [[7, 8], [9, 10]]\n",
    "\n",
    "# Result matrix of size 3x2\n",
    "result = [[0 for _ in range(len(B[0]))] for _ in range(len(A))]\n",
    "\n",
    "for i in range(len(A)):\n",
    "    for j in range(len(B[0])):\n",
    "        for k in range(len(B)):\n",
    "            result[i][j] += A[i][k] * B[k][j]\n",
    "\n",
    "print(\"Matrix Multiplication:\")\n",
    "for row in result:\n",
    "    print(row)\n"
   ]
  },
  {
   "cell_type": "code",
   "execution_count": null,
   "id": "2cad8e77-b560-410f-a9f8-7902c8930545",
   "metadata": {},
   "outputs": [],
   "source": []
  }
 ],
 "metadata": {
  "kernelspec": {
   "display_name": "Python 3 (ipykernel)",
   "language": "python",
   "name": "python3"
  },
  "language_info": {
   "codemirror_mode": {
    "name": "ipython",
    "version": 3
   },
   "file_extension": ".py",
   "mimetype": "text/x-python",
   "name": "python",
   "nbconvert_exporter": "python",
   "pygments_lexer": "ipython3",
   "version": "3.13.5"
  }
 },
 "nbformat": 4,
 "nbformat_minor": 5
}
