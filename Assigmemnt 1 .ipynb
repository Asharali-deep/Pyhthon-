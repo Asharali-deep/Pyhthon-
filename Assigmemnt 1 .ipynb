{
 "cells": [
  {
   "cell_type": "markdown",
   "id": "cdaec24b-0c8d-4c04-a2ee-f38e9c29da85",
   "metadata": {},
   "source": [
    "# Part -1 Python Basics (Variables"
   ]
  },
  {
   "cell_type": "markdown",
   "id": "157d250c-1487-4a59-b813-10231f278a77",
   "metadata": {},
   "source": [
    "### 1- Print Your Name with your Father name and Date of birth using suitable escape sequence charactor"
   ]
  },
  {
   "cell_type": "code",
   "execution_count": 26,
   "id": "c5fce72c-f397-4ee9-841d-072aab205a8b",
   "metadata": {},
   "outputs": [
    {
     "name": "stdout",
     "output_type": "stream",
     "text": [
      "name: \t Ashar Ali \n",
      "f_name: \t Dilshad Ali \n",
      "DOB : \t 25/09/2002\n"
     ]
    }
   ],
   "source": [
    "print (\"name: \\t Ashar Ali \\nf_name: \\t Dilshad Ali \\nDOB : \\t 25/09/2002\")"
   ]
  },
  {
   "cell_type": "markdown",
   "id": "ada2b651-b15b-4d19-bb9c-9f556056adc0",
   "metadata": {},
   "source": [
    "## 2-Write your small bio using variables and print it using print function"
   ]
  },
  {
   "cell_type": "code",
   "execution_count": 27,
   "id": "764a5d3b-77fa-473d-8967-57d0cde74ed6",
   "metadata": {},
   "outputs": [
    {
     "name": "stdout",
     "output_type": "stream",
     "text": [
      "Ashar Ali  Dilshad Ali 22 73.5 True\n"
     ]
    }
   ],
   "source": [
    "name =(\"Ashar Ali \")\n",
    "f_name= (\"Dilshad Ali\")\n",
    "age = (22)\n",
    "weight = (73.5)\n",
    "present = (\"True\")\n",
    "print(name,f_name,age, weight,present)"
   ]
  },
  {
   "cell_type": "markdown",
   "id": "d4eb8fad-8f20-4e69-9966-3d03c2952859",
   "metadata": {},
   "source": [
    "## 3-Write a program in which use all the operators we can use in Python"
   ]
  },
  {
   "cell_type": "code",
   "execution_count": 28,
   "id": "b67b555c-109b-4b0b-ac41-89e28c09457f",
   "metadata": {},
   "outputs": [
    {
     "data": {
      "text/plain": [
       "11"
      ]
     },
     "execution_count": 28,
     "metadata": {},
     "output_type": "execute_result"
    }
   ],
   "source": [
    "a = 5\n",
    "b = 6\n",
    "a+b\n"
   ]
  },
  {
   "cell_type": "code",
   "execution_count": 29,
   "id": "fc85e9e7-3b3d-4a3c-92aa-d27ce73047eb",
   "metadata": {},
   "outputs": [
    {
     "data": {
      "text/plain": [
       "-1"
      ]
     },
     "execution_count": 29,
     "metadata": {},
     "output_type": "execute_result"
    }
   ],
   "source": [
    "a = 5\n",
    "b = 6\n",
    "a-b"
   ]
  },
  {
   "cell_type": "code",
   "execution_count": 30,
   "id": "126959fc-33c8-434a-ba42-5e6da48f153e",
   "metadata": {},
   "outputs": [
    {
     "data": {
      "text/plain": [
       "30"
      ]
     },
     "execution_count": 30,
     "metadata": {},
     "output_type": "execute_result"
    }
   ],
   "source": [
    "a = 5\n",
    "b = 6\n",
    "a*b"
   ]
  },
  {
   "cell_type": "code",
   "execution_count": 31,
   "id": "0e4ae768-244b-473b-a8bb-e4a7ba7f445d",
   "metadata": {},
   "outputs": [
    {
     "data": {
      "text/plain": [
       "0.8333333333333334"
      ]
     },
     "execution_count": 31,
     "metadata": {},
     "output_type": "execute_result"
    }
   ],
   "source": [
    "a = 5\n",
    "b = 6\n",
    "a/b"
   ]
  },
  {
   "cell_type": "code",
   "execution_count": 34,
   "id": "f436b96f-ca32-4520-9ca8-3b76a9f48c27",
   "metadata": {},
   "outputs": [
    {
     "data": {
      "text/plain": [
       "1953125"
      ]
     },
     "execution_count": 34,
     "metadata": {},
     "output_type": "execute_result"
    }
   ],
   "source": [
    "a = 5\n",
    "b = 9\n",
    "a**b"
   ]
  },
  {
   "cell_type": "code",
   "execution_count": 35,
   "id": "e6ba0070-c0c3-4984-8d58-5aed4ffe88e2",
   "metadata": {},
   "outputs": [
    {
     "data": {
      "text/plain": [
       "5"
      ]
     },
     "execution_count": 35,
     "metadata": {},
     "output_type": "execute_result"
    }
   ],
   "source": [
    "a = 5\n",
    "b = 6\n",
    "a%b"
   ]
  },
  {
   "cell_type": "code",
   "execution_count": 37,
   "id": "28770d6c-d5c2-4b71-b1b4-68a52e889be8",
   "metadata": {},
   "outputs": [
    {
     "data": {
      "text/plain": [
       "0"
      ]
     },
     "execution_count": 37,
     "metadata": {},
     "output_type": "execute_result"
    }
   ],
   "source": [
    "a = 5\n",
    "b = 6\n",
    "a//b"
   ]
  },
  {
   "cell_type": "markdown",
   "id": "f970825b-088e-4ebe-901b-d3cc0748f8b2",
   "metadata": {},
   "source": [
    "## 4-Completes the following steps of small task:\n",
    "Mention Marks of English , Islamiat and Maths out of 100 in 3 different variables\n",
    "Mention Variable of Total Marks and assign 300 to it\n",
    "Calculate Percentage"
   ]
  },
  {
   "cell_type": "code",
   "execution_count": 48,
   "id": "cb0c4a4d-481a-48b8-ba80-33f08af3b961",
   "metadata": {},
   "outputs": [
    {
     "name": "stdout",
     "output_type": "stream",
     "text": [
      "65.66666666666666\n"
     ]
    }
   ],
   "source": [
    "# Marks \n",
    "english = 54\n",
    "Islamiat = (84)\n",
    "Math    = (59)\n",
    "totalmarks = (300) \n",
    "obtainmarks= (197)\n",
    "print(obtainmarks/totalmarks*100 ) "
   ]
  },
  {
   "cell_type": "markdown",
   "id": "7cf6bdce-344a-485d-bd8f-c23e486facf5",
   "metadata": {},
   "source": [
    "# Part -2 Python Basics (Conditional Statements)"
   ]
  },
  {
   "cell_type": "markdown",
   "id": "b6feca30-3417-4f35-932c-62c727d309cf",
   "metadata": {},
   "source": [
    "#### 5- A company decided to give bonus of 5% to employee if his/her year of service is more than 5 years. Ask user for their salary and year of service and print the net bonus amount.-"
   ]
  },
  {
   "cell_type": "code",
   "execution_count": 77,
   "id": "bf6c9486-a104-4d4f-92d0-6fa046d5ca02",
   "metadata": {},
   "outputs": [
    {
     "name": "stdin",
     "output_type": "stream",
     "text": [
      "how many you work year:  66\n",
      "salary of year:  1000000000\n"
     ]
    },
    {
     "name": "stdout",
     "output_type": "stream",
     "text": [
      "50000000.0\n"
     ]
    }
   ],
   "source": [
    "year= int(input(\"how many you work year: \")) \n",
    "if year>5:\n",
    " salary = int(input(\"salary of year: \"))\n",
    " bonus =(salary *5/100)     \n",
    " print (bonus)\n",
    "else :\n",
    " print (\"you are not eligibel for bounus\") "
   ]
  },
  {
   "cell_type": "markdown",
   "id": "db5f23af-359d-4887-88cc-3a3a04945784",
   "metadata": {},
   "source": [
    "#### 6-Write a program to check whether a person is eligible for voting or not. (accept age from user) if age is greater than 17 eligible otherwise not eligible"
   ]
  },
  {
   "cell_type": "code",
   "execution_count": 80,
   "id": "3358a90b-f840-47ec-95fe-ead06a407b19",
   "metadata": {},
   "outputs": [
    {
     "name": "stdin",
     "output_type": "stream",
     "text": [
      "enter your age:  78\n"
     ]
    },
    {
     "name": "stdout",
     "output_type": "stream",
     "text": [
      "you are eligible for voting\n"
     ]
    }
   ],
   "source": [
    "age = int (input(\"enter your age: \"))\n",
    "if age >18 :\n",
    "    print (\"you are eligible for voting\")\n",
    "else:\n",
    "     print (\"not eligible\")"
   ]
  },
  {
   "cell_type": "markdown",
   "id": "14acce77-55b1-4d37-aa45-e129166b51ca",
   "metadata": {},
   "source": [
    "#### 3- Write a program to check whether a number entered by user is even or odd."
   ]
  },
  {
   "cell_type": "code",
   "execution_count": 90,
   "id": "07d3ed64-649d-4e76-9a9d-6535b7eccee4",
   "metadata": {},
   "outputs": [
    {
     "name": "stdin",
     "output_type": "stream",
     "text": [
      "enter a number:  8\n"
     ]
    },
    {
     "name": "stdout",
     "output_type": "stream",
     "text": [
      "even\n"
     ]
    }
   ],
   "source": [
    "num = int(input(\"enter a number: \"))\n",
    "if num % 2==0:\n",
    "    print (\"even\")\n",
    "else:\n",
    "     print (\"odd\")"
   ]
  },
  {
   "cell_type": "markdown",
   "id": "1181b204-44cb-4e5b-a337-a273c712c2da",
   "metadata": {},
   "source": [
    "#### 4-Write a program to check whether a number is divisible by 7 or not. Show Answer"
   ]
  },
  {
   "cell_type": "code",
   "execution_count": 96,
   "id": "bc54eb25-0bf2-49d7-a619-66c41628179a",
   "metadata": {},
   "outputs": [
    {
     "name": "stdin",
     "output_type": "stream",
     "text": [
      "enter a number:  45\n"
     ]
    },
    {
     "name": "stdout",
     "output_type": "stream",
     "text": [
      "not possibel\n"
     ]
    }
   ],
   "source": [
    "num = int(input(\"enter a number: \"))\n",
    "if num %7== 0:\n",
    " print (\"possibel to divied by 7\")\n",
    "else:\n",
    "     print (\"not possibel\")"
   ]
  },
  {
   "cell_type": "markdown",
   "id": "ba076004-c6db-4e5e-a442-978fa65ba242",
   "metadata": {},
   "source": [
    "#### 5-Write a program to display \"Hello\" if a number entered by user is a multiple of five , otherwise print \"Bye\"."
   ]
  },
  {
   "cell_type": "code",
   "execution_count": 104,
   "id": "6497de62-0e5d-4c3b-a822-35d81be533cf",
   "metadata": {},
   "outputs": [
    {
     "name": "stdin",
     "output_type": "stream",
     "text": [
      "enter a number:  5\n"
     ]
    },
    {
     "name": "stdout",
     "output_type": "stream",
     "text": [
      "hello\n"
     ]
    }
   ],
   "source": [
    "num = int(input(\"enter a number: \"))\n",
    "if num %5 == 0:\n",
    "     print (\"hello\")\n",
    "else:\n",
    "    print (\"by\")"
   ]
  },
  {
   "cell_type": "markdown",
   "id": "25c3345a-2f7d-4996-b216-855ea3ecd83b",
   "metadata": {},
   "source": [
    "#### 6 -Write a program to display the last digit of a number."
   ]
  },
  {
   "cell_type": "code",
   "execution_count": 5,
   "id": "e7a9e1aa-fcaf-4ff1-a600-24df90a4502e",
   "metadata": {},
   "outputs": [
    {
     "name": "stdout",
     "output_type": "stream",
     "text": [
      "7\n"
     ]
    }
   ],
   "source": [
    "num1 = 128457\n",
    "num2 = num1 %10  \n",
    "print(num2)"
   ]
  },
  {
   "cell_type": "markdown",
   "id": "a21b193d-73cd-4a6f-9496-95fc4ef60025",
   "metadata": {},
   "source": [
    "#### 7-Take values of length and breadth of a rectangle from user and print if it is square or rectangle."
   ]
  },
  {
   "cell_type": "code",
   "execution_count": 121,
   "id": "ce36f085-64dd-4172-9687-193161f0e36b",
   "metadata": {},
   "outputs": [
    {
     "name": "stdin",
     "output_type": "stream",
     "text": [
      "enter a number:  7\n",
      "enter a number:  6\n"
     ]
    },
    {
     "name": "stdout",
     "output_type": "stream",
     "text": [
      "rectangle\n"
     ]
    }
   ],
   "source": [
    "length = int(input(\"enter a number: \"))\n",
    "wirdth = int(input(\"enter a number: \"))\n",
    "if length == wirdth: \n",
    "  print (\"square\")\n",
    "else:\n",
    "     print (\"rectangle\")"
   ]
  },
  {
   "cell_type": "markdown",
   "id": "73811848-45d7-4a24-9528-08bf12dc001c",
   "metadata": {},
   "source": [
    "#### 8- Take two int values from user and print greatest among them.\n"
   ]
  },
  {
   "cell_type": "code",
   "execution_count": 8,
   "id": "f59d2fe6-f2e0-4da7-8a4a-d639c6a81534",
   "metadata": {},
   "outputs": [
    {
     "name": "stdin",
     "output_type": "stream",
     "text": [
      "enter a number:  1\n",
      "enter a number:  9\n"
     ]
    },
    {
     "name": "stdout",
     "output_type": "stream",
     "text": [
      "num2 is greater than num1: \n"
     ]
    }
   ],
   "source": [
    "num1 = int(input(\"enter a number: \"))\n",
    "num2 = int(input(\"enter a number: \"))\n",
    "if num1 > num2 :\n",
    " print(\"num1 is greater than num2: \")\n",
    "if num1 < num2 :\n",
    " print(\"num2 is greater than num1: \")"
   ]
  },
  {
   "cell_type": "markdown",
   "id": "4462e4fa-b1b0-459e-b821-af055cab05a2",
   "metadata": {},
   "source": [
    "#### 9- A shop will give discount of 10% if the cost of purchased quantity is more than 1000. Ask user for quantity Suppose, one unit will cost 100. Judge and print total cost for user."
   ]
  },
  {
   "cell_type": "code",
   "execution_count": 10,
   "id": "1923a7f3-befd-4ca5-b163-f87f56aad962",
   "metadata": {},
   "outputs": [
    {
     "name": "stdin",
     "output_type": "stream",
     "text": [
      "Enter the quantity:  2000\n"
     ]
    },
    {
     "name": "stdout",
     "output_type": "stream",
     "text": [
      "Total cost: 180000.0\n"
     ]
    }
   ],
   "source": [
    "# Take quantity input from user\n",
    "quantity = int(input(\"Enter the quantity: \"))\n",
    "\n",
    "# Cost of one unit\n",
    "unit_price = 100\n",
    "\n",
    "# Calculate total cost\n",
    "total_cost = quantity * unit_price\n",
    "\n",
    "# Check discount condition\n",
    "if total_cost > 1000:\n",
    "    discount = total_cost * 0.10   # 10% discount\n",
    "    total_cost = total_cost - discount\n",
    "\n",
    "# Print final cost\n",
    "print(\"Total cost:\", total_cost)\n"
   ]
  },
  {
   "cell_type": "markdown",
   "id": "61e9b95e-c7b0-4e92-a221-95b4309cfee2",
   "metadata": {},
   "source": [
    "#### 10 -A school has following rules for grading system:\n",
    "a. Below 25 - F\n",
    "\n",
    "b. 25 to 45 - E\n",
    "\n",
    "c. 45 to 50 - D\n",
    "\n",
    "d. 50 to 60 - C\n",
    "\n",
    "e. 60 to 80 - B\n",
    "\n",
    "f. Above 80 - A\n",
    "\n",
    "Ask user to enter marks and print the corresponding grade."
   ]
  },
  {
   "cell_type": "code",
   "execution_count": 21,
   "id": "ede47bf2-ad06-4dd7-9e57-c63216a7fa22",
   "metadata": {},
   "outputs": [
    {
     "name": "stdin",
     "output_type": "stream",
     "text": [
      "Enter marks:  80\n"
     ]
    },
    {
     "name": "stdout",
     "output_type": "stream",
     "text": [
      "A\n"
     ]
    }
   ],
   "source": [
    "marks = int(input(\"Enter marks: \"))\n",
    "\n",
    "if marks < 25:\n",
    "    print(\"F\")\n",
    "elif marks >= 25 and marks < 45:\n",
    "    print(\"E\")\n",
    "elif marks >= 45 and marks < 50:\n",
    "    print(\"D\")\n",
    "elif marks >= 50 and marks < 60:\n",
    "    print(\"C\")\n",
    "elif marks >= 60 and marks < 80:\n",
    "    print(\"B\")\n",
    "else:\n",
    "    print(\"A\")\n"
   ]
  },
  {
   "cell_type": "markdown",
   "id": "7bf10994-036c-46ef-898e-2b34fb127253",
   "metadata": {},
   "source": [
    "#### 14-14)A student will not be allowed to sit in exam if his/her attendence is less than 75%.\n",
    "\n",
    "Take following input from user\n",
    "\n",
    "Number of classes held\n",
    "\n",
    "Number of classes attended.\n",
    "\n",
    "And print\n",
    "\n",
    "percentage of class attended\n",
    "\n",
    "Is student is allowed to sit in exam or not."
   ]
  },
  {
   "cell_type": "code",
   "execution_count": 40,
   "id": "fcb27a1f-afa7-498c-a7f8-6bef536cb3fb",
   "metadata": {},
   "outputs": [
    {
     "name": "stdin",
     "output_type": "stream",
     "text": [
      "Enter total number of classes held:  100\n",
      "Enter number of classes attended:  75\n"
     ]
    },
    {
     "name": "stdout",
     "output_type": "stream",
     "text": [
      "Percentage of classes attended: 75.0 %\n",
      "You are allowed to sit in exam.\n"
     ]
    }
   ],
   "source": [
    "# Take inputs\n",
    "classes_held = int(input(\"Enter total number of classes held: \"))\n",
    "classes_attended = int(input(\"Enter number of classes attended: \"))\n",
    "\n",
    "# Calculate attendance percentage\n",
    "attendance_percentage = (classes_attended / classes_held) * 100\n",
    "\n",
    "# Print percentage\n",
    "print(\"Percentage of classes attended:\", attendance_percentage, \"%\")\n",
    "\n",
    "# Check eligibility\n",
    "if attendance_percentage >= 75:\n",
    "    print(\"You are allowed to sit in exam.\")\n",
    "else:\n",
    "    print(\"You are NOT allowed to sit in exam.\")\n"
   ]
  },
  {
   "cell_type": "markdown",
   "id": "7ebb0735-2579-4ad8-baff-ad5be6dbce53",
   "metadata": {},
   "source": [
    "#### 15-Modify the above question to allow student to sit if he/she has medical cause. Ask user if he/she has medical cause or not ( 'Y' or 'N' ) and print accordingly."
   ]
  },
  {
   "cell_type": "code",
   "execution_count": 41,
   "id": "23017f46-eceb-4191-8efc-095821a72bf4",
   "metadata": {},
   "outputs": [
    {
     "name": "stdin",
     "output_type": "stream",
     "text": [
      "Total classes held:  75\n",
      "Classes attended:  5\n"
     ]
    },
    {
     "name": "stdout",
     "output_type": "stream",
     "text": [
      "Attendance: 6.666666666666667 %\n"
     ]
    },
    {
     "name": "stdin",
     "output_type": "stream",
     "text": [
      "Medical cause? (Y/N):  n\n"
     ]
    },
    {
     "name": "stdout",
     "output_type": "stream",
     "text": [
      "Not Allowed\n"
     ]
    }
   ],
   "source": [
    "held = int(input(\"Total classes held: \"))\n",
    "attended = int(input(\"Classes attended: \"))\n",
    "perc = (attended / held) * 100\n",
    "print(\"Attendance:\", perc, \"%\")\n",
    "\n",
    "print(\"Allowed\" if perc >= 75 or input(\"Medical cause? (Y/N): \").upper() == \"Y\" else \"Not Allowed\")\n"
   ]
  },
  {
   "cell_type": "markdown",
   "id": "c457fbd3-6957-40ab-a082-66f1c62b8848",
   "metadata": {},
   "source": [
    "#### 16- Write a program to check if a year is leap year or not.\n",
    "If a year is divisible by 4 then it is leap year but if the year is century year like 2000, 1900, 2100 then it must be divisible by 400.\n",
    "\n"
   ]
  },
  {
   "cell_type": "code",
   "execution_count": 43,
   "id": "c79f646b-3c79-4242-8ac0-b2807df9672b",
   "metadata": {},
   "outputs": [
    {
     "name": "stdin",
     "output_type": "stream",
     "text": [
      "Enter a year:  300\n"
     ]
    },
    {
     "name": "stdout",
     "output_type": "stream",
     "text": [
      "300 is Not a Leap Year\n"
     ]
    }
   ],
   "source": [
    "year = int(input(\"Enter a year: \"))\n",
    "\n",
    "if (year % 400 == 0) or (year % 4 == 0 and year % 100 != 0):\n",
    "    print(year, \"is a Leap Year\")\n",
    "else:\n",
    "    print(year, \"is Not a Leap Year\")\n"
   ]
  },
  {
   "cell_type": "markdown",
   "id": "53c021ce-e84f-455f-b6de-ba953728a5be",
   "metadata": {},
   "source": [
    "#### 17-Ask user to enter age, gender ( M or F ), marital status ( Y or N ) and then using following rules print their place of service.\n",
    "if employee is female, then she will work only in urban areas.\n",
    "\n",
    "if employee is a male and age is in between 20 to 40 then he may work in anywhere\n",
    "\n",
    "if employee is male and age is in between 40 t0 60 then he will work in urban areas only.\n",
    "\n",
    "And any other input of age should print \"ERROR\"\n",
    "\n"
   ]
  },
  {
   "cell_type": "code",
   "execution_count": 68,
   "id": "5c8dba92-bdb5-499c-805a-f8806b89d75b",
   "metadata": {},
   "outputs": [
    {
     "name": "stdin",
     "output_type": "stream",
     "text": [
      "Enter age:  8858\n",
      "Enter gender (M/F):  m\n",
      "Enter marital status (Y/N):  n\n"
     ]
    },
    {
     "name": "stdout",
     "output_type": "stream",
     "text": [
      "ERROR\n"
     ]
    }
   ],
   "source": [
    "age = int(input(\"Enter age: \"))\n",
    "gender = input(\"Enter gender (M/F): \").upper() \n",
    "marital_status = input(\"Enter marital status (Y/N): \").upper() \n",
    "if gender == \"F\":\n",
    "    print(\"She will work only in urban areas.\")\n",
    "elif gender == \"M\":\n",
    "    if 20 <= age <= 40:\n",
    "        print(\"He may work anywhere.\")\n",
    "    elif 40 < age <= 60:\n",
    "        print(\"He will work only in urban areas.\")\n",
    "    else:\n",
    "        print(\"ERROR\")\n",
    "else:\n",
    "    print(\"ERROR\")\n"
   ]
  },
  {
   "cell_type": "markdown",
   "id": "e2d08675-5d8b-4a5c-a396-100503da6ee1",
   "metadata": {},
   "source": [
    "#### 6-Write a program to calculate the electricity bill (accept number of unit from user) according to the following criteria : Unit Price\n",
    "uptp 100 units no charge Next 200 units Rs 5 per unit After 200 units Rs 10 per unit (For example if input unit is 350 than total bill amount is Rs.3500 (For example if input unit is 97 than total bill amount is Rs.0 (For example if input unit is 150 than total bill amount is Rs.750"
   ]
  },
  {
   "cell_type": "code",
   "execution_count": 70,
   "id": "ca8ac73b-3831-42de-b87e-e2d570ee62c2",
   "metadata": {},
   "outputs": [
    {
     "name": "stdin",
     "output_type": "stream",
     "text": [
      "Enter number of units consumed:  858\n"
     ]
    },
    {
     "name": "stdout",
     "output_type": "stream",
     "text": [
      "Total bill amount = Rs. 6580\n"
     ]
    }
   ],
   "source": [
    "units = int(input(\"Enter number of units consumed: \"))\n",
    "\n",
    "if units <= 100:\n",
    "    bill = 0\n",
    "elif units <= 300:\n",
    "    bill = (units - 100) * 5\n",
    "else:\n",
    "    bill = (200 * 5) + (units - 300) * 10\n",
    "\n",
    "print(\"Total bill amount = Rs.\", bill)\n"
   ]
  },
  {
   "cell_type": "markdown",
   "id": "7f9e9fd7-da14-40dd-8dbd-648dc800c2ad",
   "metadata": {},
   "source": [
    "#### 13-Take input of age of 3 people by user and determine oldest and youngest among them.\n"
   ]
  },
  {
   "cell_type": "code",
   "execution_count": 75,
   "id": "94c56bca-8d32-4d92-b4cd-d15bd4da6d12",
   "metadata": {},
   "outputs": [
    {
     "name": "stdin",
     "output_type": "stream",
     "text": [
      "Enter age of person 1:  855\n",
      "Enter age of person 2:  44\n",
      "Enter age of person 3:  33\n"
     ]
    },
    {
     "name": "stdout",
     "output_type": "stream",
     "text": [
      "Oldest age is: 855\n",
      "Youngest age is: 33\n"
     ]
    }
   ],
   "source": [
    "age1 = int(input(\"Enter age of person 1: \"))\n",
    "age2 = int(input(\"Enter age of person 2: \"))\n",
    "age3 = int(input(\"Enter age of person 3: \"))\n",
    "\n",
    "oldest = max(age1, age2, age3)\n",
    "youngest = min(age1, age2, age3)\n",
    "\n",
    "print(\"Oldest age is:\", oldest)\n",
    "print(\"Youngest age is:\", youngest)\n"
   ]
  },
  {
   "cell_type": "code",
   "execution_count": null,
   "id": "a07d808b-0386-424a-aa39-6fbda975855d",
   "metadata": {},
   "outputs": [],
   "source": []
  }
 ],
 "metadata": {
  "kernelspec": {
   "display_name": "Python 3 (ipykernel)",
   "language": "python",
   "name": "python3"
  },
  "language_info": {
   "codemirror_mode": {
    "name": "ipython",
    "version": 3
   },
   "file_extension": ".py",
   "mimetype": "text/x-python",
   "name": "python",
   "nbconvert_exporter": "python",
   "pygments_lexer": "ipython3",
   "version": "3.13.5"
  }
 },
 "nbformat": 4,
 "nbformat_minor": 5
}
