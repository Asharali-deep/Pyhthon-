{
 "cells": [
  {
   "cell_type": "markdown",
   "id": "3456d265-0279-490c-b477-33079d14f1ec",
   "metadata": {},
   "source": [
    "# Looping Structures\n"
   ]
  },
  {
   "cell_type": "markdown",
   "id": "97d41e55-7d98-4c46-ba23-7b479f1b9f97",
   "metadata": {},
   "source": [
    "#### 1. Write a Python program to print the numbers from 1 to 10 using a for loop. "
   ]
  },
  {
   "cell_type": "code",
   "execution_count": 4,
   "id": "79d28bc3-f5fc-4018-934f-fd52e1116933",
   "metadata": {},
   "outputs": [
    {
     "name": "stdout",
     "output_type": "stream",
     "text": [
      "1\n",
      "2\n",
      "3\n",
      "4\n",
      "5\n",
      "6\n",
      "7\n",
      "8\n",
      "9\n",
      "10\n"
     ]
    }
   ],
   "source": [
    "for temp in range (1,11):\n",
    " print (temp)"
   ]
  },
  {
   "cell_type": "markdown",
   "id": "faecdd86-f37d-4efa-90f2-dc90976f86ed",
   "metadata": {},
   "source": [
    "#### 2. Write a Python program to print the numbers from 20 to 1 using a while loop."
   ]
  },
  {
   "cell_type": "code",
   "execution_count": 7,
   "id": "610a6276-4843-4f47-af08-95654bc55088",
   "metadata": {},
   "outputs": [
    {
     "name": "stdout",
     "output_type": "stream",
     "text": [
      "20\n",
      "19\n",
      "18\n",
      "17\n",
      "16\n",
      "15\n",
      "14\n",
      "13\n",
      "12\n",
      "11\n",
      "10\n",
      "9\n",
      "8\n",
      "7\n",
      "6\n",
      "5\n",
      "4\n",
      "3\n",
      "2\n",
      "1\n"
     ]
    }
   ],
   "source": [
    "# Start from 20\n",
    "num = 20\n",
    "while num >= 1:\n",
    "    print(num)\n",
    "    num -= 1 \n"
   ]
  },
  {
   "cell_type": "markdown",
   "id": "b6236c86-0792-443e-ba4b-6361e81c36a8",
   "metadata": {},
   "source": [
    "#### 3. Write a program to print even numbers from 1 to 10. "
   ]
  },
  {
   "cell_type": "code",
   "execution_count": null,
   "id": "19242913-d3f4-4541-962c-5bd426cfbf15",
   "metadata": {},
   "outputs": [],
   "source": [
    "num = 1\n",
    "\n",
    "while num <= 10:\n",
    "    if num % 2 == 0:   # check even\n",
    "        print(num)\n",
    "    num += 1\n"
   ]
  },
  {
   "cell_type": "markdown",
   "id": "9eea8265-57e2-4c2d-96f2-f7c6b6913f16",
   "metadata": {},
   "source": [
    "#### 4. Write a program that prompts the user to enter a number n and prints all the\n",
    "numbers from 1 to n. -"
   ]
  },
  {
   "cell_type": "code",
   "execution_count": null,
   "id": "d981f121-0c25-464c-8909-3c8eeb44e21c",
   "metadata": {},
   "outputs": [],
   "source": [
    "# Ask user for a number\n",
    "n = int(input(\"Enter a number: \"))\n",
    "\n",
    "num = 1\n",
    "while num <= n:\n",
    "    print(num)\n",
    "    num += 1\n"
   ]
  },
  {
   "cell_type": "markdown",
   "id": "24d10f51-9400-46aa-8b2a-2c0237c91a39",
   "metadata": {},
   "source": [
    "#### 5. Write a program that prompts the user to enter a number n, and then prints all the\n",
    "odd numbers between 1 and n. "
   ]
  },
  {
   "cell_type": "code",
   "execution_count": 24,
   "id": "6e93320f-3d90-409d-a199-e5d1c27825c6",
   "metadata": {},
   "outputs": [
    {
     "name": "stdin",
     "output_type": "stream",
     "text": [
      "Enter a number:  8\n"
     ]
    },
    {
     "name": "stdout",
     "output_type": "stream",
     "text": [
      "1\n",
      "3\n",
      "5\n",
      "7\n"
     ]
    }
   ],
   "source": [
    "n = int(input(\"Enter a number: \"))\n",
    "\n",
    "for num in range(1, n+1, 2):   # step 2 → only odd numbers\n",
    "    print(num)\n"
   ]
  },
  {
   "cell_type": "markdown",
   "id": "f77b9ef5-e291-4af5-adde-c573b44ed8fe",
   "metadata": {},
   "source": [
    "#### 6. Write a program that prints 'Happy Birthday!' five times on screen. "
   ]
  },
  {
   "cell_type": "code",
   "execution_count": 34,
   "id": "14a8edd6-df11-4a57-93ab-0dc60185784a",
   "metadata": {},
   "outputs": [
    {
     "name": "stdout",
     "output_type": "stream",
     "text": [
      "1 Happy Birthday\n",
      "2 Happy Birthday\n",
      "3 Happy Birthday\n",
      "4 Happy Birthday\n",
      "5 Happy Birthday\n"
     ]
    }
   ],
   "source": [
    "for temp in range (1,6):\n",
    " print (temp,\"Happy Birthday\")"
   ]
  },
  {
   "cell_type": "markdown",
   "id": "1f348c74-46b5-4567-926d-b122727a5d2d",
   "metadata": {},
   "source": [
    "#### 7. Write a program that takes a number n as input from the user and generates the first\n",
    "n terms of the series formed by squaring the natural numbers. "
   ]
  },
  {
   "cell_type": "code",
   "execution_count": 35,
   "id": "2452d281-a922-4a11-9427-c66df4ee61c5",
   "metadata": {},
   "outputs": [
    {
     "name": "stdin",
     "output_type": "stream",
     "text": [
      "Enter how many terms:  8\n"
     ]
    },
    {
     "name": "stdout",
     "output_type": "stream",
     "text": [
      "1\n",
      "4\n",
      "9\n",
      "16\n",
      "25\n",
      "36\n",
      "49\n",
      "64\n"
     ]
    }
   ],
   "source": [
    "# Ask user for input\n",
    "n = int(input(\"Enter how many terms: \"))\n",
    "\n",
    "# Generate squares of natural numbers\n",
    "for i in range(1, n+1):\n",
    "    print(i*i)\n"
   ]
  },
  {
   "cell_type": "markdown",
   "id": "0983d1fb-f172-4730-b0cb-3d9e33e78899",
   "metadata": {},
   "source": [
    "#### 8. Write a program that prompts the user to input a number and prints its multiplication\n",
    "table"
   ]
  },
  {
   "cell_type": "code",
   "execution_count": 39,
   "id": "fef59c99-4a45-4928-8018-368d5d8c621a",
   "metadata": {},
   "outputs": [
    {
     "name": "stdin",
     "output_type": "stream",
     "text": [
      "Enter a number:  9\n"
     ]
    },
    {
     "name": "stdout",
     "output_type": "stream",
     "text": [
      "Multiplication Table of 9:\n",
      "9 x 1 = 9\n",
      "9 x 2 = 18\n",
      "9 x 3 = 27\n",
      "9 x 4 = 36\n",
      "9 x 5 = 45\n",
      "9 x 6 = 54\n",
      "9 x 7 = 63\n",
      "9 x 8 = 72\n",
      "9 x 9 = 81\n",
      "9 x 10 = 90\n"
     ]
    }
   ],
   "source": [
    "# Ask user for a number\n",
    "n = int(input(\"Enter a number: \"))\n",
    "\n",
    "# Print multiplication table\n",
    "print(f\"Multiplication Table of {n}:\")\n",
    "for i in range(1, 11):\n",
    "    print(f\"{n} x {i} = {n*i}\")\n"
   ]
  },
  {
   "cell_type": "markdown",
   "id": "8753f097-93a6-4d2a-8650-105e478ee5e1",
   "metadata": {},
   "source": [
    "#### 9. Write a Python program to print the first 8 terms of an arithmetic progression starting\n",
    "with 3 and having a common difference of 4.\n",
    "The program should output the following sequence:\n",
    "3 7 11 15 19 23 27 31 \n"
   ]
  },
  {
   "cell_type": "code",
   "execution_count": 40,
   "id": "8ec2e0ba-a70b-4e0c-83ba-f98f42e8604f",
   "metadata": {},
   "outputs": [
    {
     "name": "stdout",
     "output_type": "stream",
     "text": [
      "First 8 terms of the AP:\n",
      "3 7 11 15 19 23 27 31 "
     ]
    }
   ],
   "source": [
    "# First term and common difference\n",
    "a = 3\n",
    "d = 4\n",
    "\n",
    "print(\"First 8 terms of the AP:\")\n",
    "\n",
    "for n in range(8):   # 0 to 7 → 8 terms\n",
    "    term = a + n*d\n",
    "    print(term, end=\" \")\n"
   ]
  },
  {
   "cell_type": "markdown",
   "id": "0bd68602-0a29-4435-bb0c-00ed5fa8edb4",
   "metadata": {},
   "source": [
    "#### 10. Write a Python program to print the first 6 terms of a geometric sequence starting\n",
    "with 2 and having a common ratio of 3.\n",
    "The program should output the following sequence:\n",
    "2 6 18 54 162 486 \n"
   ]
  },
  {
   "cell_type": "code",
   "execution_count": 42,
   "id": "07deba19-7cc0-488a-ad42-2cfa17b52814",
   "metadata": {},
   "outputs": [
    {
     "name": "stdout",
     "output_type": "stream",
     "text": [
      "First 6 terms of the GP:\n",
      "2 6 18 54 162 486 "
     ]
    }
   ],
   "source": [
    "# First term and common ratio\n",
    "a = 2\n",
    "r = 3\n",
    "\n",
    "print(\"First 6 terms of the GP:\")\n",
    "\n",
    "for n in range(6):   # 0 to 5 → 6 terms\n",
    "    term = a * (r ** n)\n",
    "    print(term, end=\" \")\n"
   ]
  },
  {
   "cell_type": "markdown",
   "id": "ed628154-0da5-4452-aa9f-ca431777d16c",
   "metadata": {},
   "source": [
    "#### 11. Write a program that asks the user for a positive integer value. The program should\n",
    "calculate the sum of all the integers from 1 up to the number entered. For example, if\n",
    "the user enters 20, the loop will find the sum of 1, 2, 3, 4, ... 20."
   ]
  },
  {
   "cell_type": "code",
   "execution_count": 44,
   "id": "bb18b595-358e-4394-ad3a-2a73ae656f16",
   "metadata": {},
   "outputs": [
    {
     "name": "stdin",
     "output_type": "stream",
     "text": [
      "Enter a positive integer:  7\n"
     ]
    },
    {
     "name": "stdout",
     "output_type": "stream",
     "text": [
      "The sum of numbers from 1 to 7 is: 28\n"
     ]
    }
   ],
   "source": [
    "# Ask user for input\n",
    "n = int(input(\"Enter a positive integer: \"))\n",
    "\n",
    "total = 0\n",
    "for i in range(1, n+1):\n",
    "    total += i\n",
    "\n",
    "print(\"The sum of numbers from 1 to\", n, \"is:\", total)\n",
    "\n"
   ]
  },
  {
   "cell_type": "markdown",
   "id": "5aad7b27-5133-446f-b08c-eec610bcbe02",
   "metadata": {},
   "source": [
    "#### 12. write a program that takes a positive integer N as input and calculates the sum of\n",
    "the reciprocals of all numbers from 1 up to N. The program should display the final sum"
   ]
  },
  {
   "cell_type": "code",
   "execution_count": 46,
   "id": "a0ec97e9-d339-4e89-9f00-8d1780bf6542",
   "metadata": {},
   "outputs": [
    {
     "name": "stdin",
     "output_type": "stream",
     "text": [
      "Enter a positive integer:  8\n"
     ]
    },
    {
     "name": "stdout",
     "output_type": "stream",
     "text": [
      "The sum of reciprocals from 1 to 8 is: 2.7178571428571425\n"
     ]
    }
   ],
   "source": [
    "# Ask user for input\n",
    "N = int(input(\"Enter a positive integer: \"))\n",
    "\n",
    "total = 0\n",
    "\n",
    "for i in range(1, N+1):\n",
    "    total += 1/i   # reciprocal\n",
    "\n",
    "print(\"The sum of reciprocals from 1 to\", N, \"is:\", total)\n",
    "\n"
   ]
  },
  {
   "cell_type": "code",
   "execution_count": null,
   "id": "f3d78068-933a-4681-839c-fb71cd6ef737",
   "metadata": {},
   "outputs": [],
   "source": []
  }
 ],
 "metadata": {
  "kernelspec": {
   "display_name": "Python 3 (ipykernel)",
   "language": "python",
   "name": "python3"
  },
  "language_info": {
   "codemirror_mode": {
    "name": "ipython",
    "version": 3
   },
   "file_extension": ".py",
   "mimetype": "text/x-python",
   "name": "python",
   "nbconvert_exporter": "python",
   "pygments_lexer": "ipython3",
   "version": "3.13.5"
  }
 },
 "nbformat": 4,
 "nbformat_minor": 5
}
