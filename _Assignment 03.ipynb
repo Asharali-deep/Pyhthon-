{
 "cells": [
  {
   "cell_type": "markdown",
   "id": "840b7272-79f5-4a92-a3fc-1789e2336725",
   "metadata": {},
   "source": [
    "# Strings Assignments"
   ]
  },
  {
   "cell_type": "markdown",
   "id": "98dfd061-d027-461b-8f93-af51cb15220a",
   "metadata": {},
   "source": [
    "#### 1. Write a program that accepts a string from user. Your program should count and display number of\n",
    "vowels in that string. \n"
   ]
  },
  {
   "cell_type": "code",
   "execution_count": 1,
   "id": "2496e032-fab0-4b01-aed0-024068ecb481",
   "metadata": {},
   "outputs": [
    {
     "name": "stdin",
     "output_type": "stream",
     "text": [
      "Enter a string:  a\n"
     ]
    },
    {
     "name": "stdout",
     "output_type": "stream",
     "text": [
      "Number of vowels in the string: 1\n"
     ]
    }
   ],
   "source": [
    "# Accept string from user\n",
    "text = input(\"Enter a string: \")\n",
    "\n",
    "# Define vowels\n",
    "vowels = \"aeiouAEIOU\"\n",
    "\n",
    "\n",
    "count = 0\n",
    "\n",
    "for ch in text:\n",
    "    if ch in vowels:\n",
    "        count += 1\n",
    "print(\"Number of vowels in the string:\", count)\n"
   ]
  },
  {
   "cell_type": "markdown",
   "id": "74a2a842-5e05-4a02-8a3b-831557e701ce",
   "metadata": {},
   "source": [
    "#### 2. Write a program that reads a string from keyboard and display:\n",
    "* The number of uppercase letters in the string\n",
    "* The number of lowercase letters in the string\n",
    "* The number of digits in the string\n",
    "* The number of whitespace characters in the string "
   ]
  },
  {
   "cell_type": "code",
   "execution_count": 4,
   "id": "175c7a6a-e1a6-43c4-9ae6-5a52fa5ade2b",
   "metadata": {},
   "outputs": [
    {
     "name": "stdin",
     "output_type": "stream",
     "text": [
      "Enter a string:  Ashar ali ,22 ,73.5,True\n"
     ]
    },
    {
     "name": "stdout",
     "output_type": "stream",
     "text": [
      "Uppercase letters: 2\n",
      "Lowercase letters: 10\n",
      "Digits: 5\n",
      "Spaces: 3\n"
     ]
    }
   ],
   "source": [
    "# Ask the user to enter a string\n",
    "text = input(\"Enter a string: \")\n",
    "\n",
    "# Start all counters from 0\n",
    "uppercase = 0\n",
    "lowercase = 0\n",
    "digits = 0\n",
    "spaces = 0\n",
    "\n",
    "# Check each character one by one\n",
    "for ch in text:\n",
    "    if ch.isupper():       \n",
    "        uppercase += 1\n",
    "    elif ch.islower():     # if character is lowercase\n",
    "        lowercase += 1\n",
    "    elif ch.isdigit():     # if character is digit\n",
    "        digits += 1\n",
    "    elif ch.isspace():     # if character is space\n",
    "        spaces += 1\n",
    "\n",
    "# Show the result\n",
    "print(\"Uppercase letters:\", uppercase)\n",
    "print(\"Lowercase letters:\", lowercase)\n",
    "print(\"Digits:\", digits)\n",
    "print(\"Spaces:\", spaces)\n"
   ]
  },
  {
   "cell_type": "markdown",
   "id": "8c415000-2d6b-4232-a4b4-bd1d71cf29cb",
   "metadata": {},
   "source": [
    "#### 3. Write a Python program that accepts a string from user. Your program should create and display a\n",
    "new string where the first and last characters have been exchanged. \n"
   ]
  },
  {
   "cell_type": "code",
   "execution_count": 7,
   "id": "1ef8cad8-adfd-477b-ad80-21e822a3dca2",
   "metadata": {},
   "outputs": [
    {
     "name": "stdin",
     "output_type": "stream",
     "text": [
      "Enter a string:  ashar\n"
     ]
    },
    {
     "name": "stdout",
     "output_type": "stream",
     "text": [
      "New string: rshaa\n"
     ]
    }
   ],
   "source": [
    "# Ask the user to enter a string\n",
    "text = input(\"Enter a string: \")\n",
    "\n",
    "# Check if string length is more than 1\n",
    "if len(text) > 1:\n",
    "    # Swap first and last characters\n",
    "    new_text = text[-1] + text[1:-1] + text[0]\n",
    "    print(\"New string:\", new_text)\n",
    "else:\n",
    "    # If string has only 1 character\n",
    "    print(\"New string:\", text)\n"
   ]
  },
  {
   "cell_type": "markdown",
   "id": "dce7ada3-40a1-4b7a-a8a7-3fa26b436545",
   "metadata": {},
   "source": [
    "#### 4. Write a Python program that accepts a string from user. Your program should create a new string in\n",
    "reverse of first string and display it. "
   ]
  },
  {
   "cell_type": "code",
   "execution_count": 8,
   "id": "11b02095-5873-4b64-b2ca-adb7643ee565",
   "metadata": {},
   "outputs": [
    {
     "name": "stdin",
     "output_type": "stream",
     "text": [
      "Enter a string:  pakistan zindabad\n"
     ]
    },
    {
     "name": "stdout",
     "output_type": "stream",
     "text": [
      "Reversed string: dabadniz natsikap\n"
     ]
    }
   ],
   "source": [
    "# Ask the user to enter a string\n",
    "text = input(\"Enter a string: \")\n",
    "\n",
    "# Reverse the string using slicing\n",
    "reverse_text = text[::-1]\n",
    "\n",
    "# Show the reversed string\n",
    "print(\"Reversed string:\", reverse_text)\n"
   ]
  },
  {
   "cell_type": "markdown",
   "id": "5096019c-5a85-4876-a20e-e9fccf2bed42",
   "metadata": {},
   "source": [
    "#### 5. Write a Python program that accepts a string from user. Your program should create a new string by\n",
    "shifting one position to left. \n"
   ]
  },
  {
   "cell_type": "code",
   "execution_count": 9,
   "id": "c23141df-c12b-473e-a17c-59c3ef3fe342",
   "metadata": {},
   "outputs": [
    {
     "name": "stdin",
     "output_type": "stream",
     "text": [
      "Enter a string:  Ilma university \n"
     ]
    },
    {
     "name": "stdout",
     "output_type": "stream",
     "text": [
      "New string: lma university I\n"
     ]
    }
   ],
   "source": [
    "# Ask the user to enter a string\n",
    "text = input(\"Enter a string: \")\n",
    "\n",
    "# Check if string length is more than 1\n",
    "if len(text) > 1:\n",
    "    # Shift left: take everything except first + add first at the end\n",
    "    new_text = text[1:] + text[0]\n",
    "    print(\"New string:\", new_text)\n",
    "else:\n",
    "    # If string has only 1 character, it stays the same\n",
    "    print(\"New string:\", text)\n"
   ]
  },
  {
   "cell_type": "markdown",
   "id": "e9d4a4a1-c72a-4058-a3cc-4db9ead9927a",
   "metadata": {},
   "source": [
    "#### 6. Write a program that asks the user to input his name and print its initials. Assuming that the user\n",
    "always types first name, middle name and last name and does not include any unnecessary spaces. "
   ]
  },
  {
   "cell_type": "code",
   "execution_count": 10,
   "id": "529250a6-0984-4b32-a022-314dcdcf6c68",
   "metadata": {},
   "outputs": [
    {
     "name": "stdin",
     "output_type": "stream",
     "text": [
      "Enter your full name (First Middle Last):  Zaitoon Ashraf IT park\n"
     ]
    },
    {
     "name": "stdout",
     "output_type": "stream",
     "text": [
      "Initials: Z. A. I. P. \n"
     ]
    }
   ],
   "source": [
    "# Ask the user to enter full name\n",
    "name = input(\"Enter your full name (First Middle Last): \")\n",
    "\n",
    "# First initial is always the first character\n",
    "initials = name[0].upper() + \". \"\n",
    "\n",
    "# Loop through the name to find spaces\n",
    "for i in range(len(name)):\n",
    "    if name[i] == \" \" and i + 1 < len(name):\n",
    "        initials += name[i+1].upper() + \". \"\n",
    "\n",
    "# Show the result\n",
    "print(\"Initials:\", initials)\n"
   ]
  },
  {
   "cell_type": "markdown",
   "id": "7b4fc4a9-5968-49ea-b173-a43b31c37edd",
   "metadata": {},
   "source": [
    "### 7. A palindrome is a string that reads the same backward as forward. For example, the words dad,\n",
    "madam and radar are all palindromes. Write a programs that determines whether the string is a\n",
    "palindrome. \n"
   ]
  },
  {
   "cell_type": "code",
   "execution_count": 12,
   "id": "02bf2375-bb84-4d9f-9385-01287b7d1b08",
   "metadata": {},
   "outputs": [
    {
     "name": "stdin",
     "output_type": "stream",
     "text": [
      "Enter a string:  madam\n"
     ]
    },
    {
     "name": "stdout",
     "output_type": "stream",
     "text": [
      "Yes, it is a palindrome.\n"
     ]
    }
   ],
   "source": [
    "# Ask user for a string\n",
    "text = input(\"Enter a string: \")\n",
    "\n",
    "# Reverse the string\n",
    "reverse_text = text[::-1]\n",
    "\n",
    "# Check if same\n",
    "if text == reverse_text:\n",
    "    print(\"Yes, it is a palindrome.\")\n",
    "else:\n",
    "    print(\"No, it is not a palindrome.\")\n"
   ]
  },
  {
   "cell_type": "markdown",
   "id": "477a9699-8683-429b-9561-90be62dbbf04",
   "metadata": {},
   "source": [
    "#### 8. Write a program that display following output:\n",
    "SHIFT\n",
    "HIFTS\n",
    "IFTSH\n",
    "FTSHI\n",
    "TSHIF\n",
    "SHIFT "
   ]
  },
  {
   "cell_type": "code",
   "execution_count": 15,
   "id": "753ec7d8-48e6-4642-9596-63e572032b4b",
   "metadata": {},
   "outputs": [
    {
     "name": "stdout",
     "output_type": "stream",
     "text": [
      "SHIFT\n",
      "HIFTS\n",
      "IFTSH\n",
      "FTSHI\n",
      "TSHIF\n",
      "SHIFT\n"
     ]
    }
   ],
   "source": [
    "word = \"SHIFT\"\n",
    "\n",
    "# Loop through length of word + 1 (to print again at last)\n",
    "for i in range(len(word) + 1):\n",
    "    print(word)\n",
    "    # Rotate string: first character goes to the end\n",
    "    word = word[1:] + word[0]\n"
   ]
  },
  {
   "cell_type": "markdown",
   "id": "69e3ad05-dea6-4177-8ae2-6e77b63e27eb",
   "metadata": {},
   "source": [
    "\n",
    "####  9. Write a program in python that accepts a string to setup a passwords. Your entered password must\n",
    "meet the following requirements:\n",
    "The password must be at least eight characters long.\n",
    "It must contain at least one uppercase letter.\n",
    "It must contain at least one lowercase letter.\n",
    "It must contain at least one numeric digit.\n",
    "Your program should should perform this validation."
   ]
  },
  {
   "cell_type": "code",
   "execution_count": 19,
   "id": "a92485a2-94a3-4687-a2c7-df42c36ef792",
   "metadata": {},
   "outputs": [
    {
     "name": "stdin",
     "output_type": "stream",
     "text": [
      "Enter your password:  Pass 1234\n"
     ]
    },
    {
     "name": "stdout",
     "output_type": "stream",
     "text": [
      "Password is valid ✅\n"
     ]
    }
   ],
   "source": [
    "password = input(\"Enter your password: \")\n",
    "\n",
    "if (len(password) >= 8 and \n",
    "    any(ch.isupper() for ch in password) and \n",
    "    any(ch.islower() for ch in password) and \n",
    "    any(ch.isdigit() for ch in password)):\n",
    "    print(\"Password is valid ✅\")\n",
    "else:\n",
    "    print(\"Password is invalid ❌\")\n"
   ]
  },
  {
   "cell_type": "code",
   "execution_count": null,
   "id": "4859411d-c869-489a-91f7-0e8eb01d920d",
   "metadata": {},
   "outputs": [],
   "source": []
  }
 ],
 "metadata": {
  "kernelspec": {
   "display_name": "Python 3 (ipykernel)",
   "language": "python",
   "name": "python3"
  },
  "language_info": {
   "codemirror_mode": {
    "name": "ipython",
    "version": 3
   },
   "file_extension": ".py",
   "mimetype": "text/x-python",
   "name": "python",
   "nbconvert_exporter": "python",
   "pygments_lexer": "ipython3",
   "version": "3.13.5"
  }
 },
 "nbformat": 4,
 "nbformat_minor": 5
}
