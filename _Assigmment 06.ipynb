{
 "cells": [
  {
   "cell_type": "markdown",
   "id": "e3d34341-ea53-46a6-af94-022b296fb304",
   "metadata": {},
   "source": [
    "## Write a Python program to create a class representing a Circle. Include methods to calculate its area and perimeter"
   ]
  },
  {
   "cell_type": "code",
   "execution_count": 2,
   "id": "19ce9775-bef8-4100-ae85-ec58c2a33c0f",
   "metadata": {},
   "outputs": [
    {
     "name": "stdout",
     "output_type": "stream",
     "text": [
      "Area: 78.53981633974483\n",
      "Perimeter: 31.41592653589793\n"
     ]
    }
   ],
   "source": [
    "import math\n",
    "\n",
    "class Circle:\n",
    "    def __init__(self, radius):\n",
    "        self.radius = radius\n",
    "\n",
    "    def area(self):\n",
    "        return math.pi * self.radius * self.radius\n",
    "\n",
    "    def perimeter(self):\n",
    "        return 2 * math.pi * self.radius\n",
    "\n",
    "\n",
    "# Example\n",
    "circle = Circle(5)  # radius = 5\n",
    "print(\"Area:\", circle.area())\n",
    "print(\"Perimeter:\", circle.perimeter())\n"
   ]
  },
  {
   "cell_type": "markdown",
   "id": "0f12f45b-568d-45cd-a35a-97ce45d0e240",
   "metadata": {},
   "source": [
    "#### Write a Python program to create a person class. Include attributes like name, country and date of birth. Implement a method to determine the person's age."
   ]
  },
  {
   "cell_type": "code",
   "execution_count": 7,
   "id": "c006c9fa-9473-43d1-abe0-b3fc8642093a",
   "metadata": {},
   "outputs": [
    {
     "name": "stdout",
     "output_type": "stream",
     "text": [
      "Name: Ashar\n",
      "Country: Pakistan\n",
      "Age: 23\n"
     ]
    }
   ],
   "source": [
    "from datetime import date\n",
    "\n",
    "class Person:\n",
    "    def __init__(self, name, country, birth_year):\n",
    "        self.name = name\n",
    "        self.country = country\n",
    "        self.birth_year = birth_year\n",
    "\n",
    "    def age(self):\n",
    "        return date.today().year - self.birth_year\n",
    "\n",
    "\n",
    "# Example\n",
    "p1 = Person(\"Ashar\", \"Pakistan\", 2002)\n",
    "print(\"Name:\", p1.name)\n",
    "print(\"Country:\", p1.country)\n",
    "print(\"Age:\", p1.age())\n",
    "\n"
   ]
  },
  {
   "cell_type": "markdown",
   "id": "98ab2466-848b-4554-b0d5-ae56f13c9d7a",
   "metadata": {},
   "source": [
    "#### Write a Python program to create a calculator class. Include methods for basic arithmetic operations.\n"
   ]
  },
  {
   "cell_type": "code",
   "execution_count": 8,
   "id": "044be039-11cc-4dac-9659-1f0eee4cdcee",
   "metadata": {},
   "outputs": [
    {
     "name": "stdout",
     "output_type": "stream",
     "text": [
      "Add: 15\n",
      "Subtract: 5\n",
      "Multiply: 50\n",
      "Divide: 2.0\n"
     ]
    }
   ],
   "source": [
    "class Calculator:\n",
    "    def add(self, a, b):\n",
    "        return a + b\n",
    "\n",
    "    def subtract(self, a, b):\n",
    "        return a - b\n",
    "\n",
    "    def multiply(self, a, b):\n",
    "        return a * b\n",
    "\n",
    "    def divide(self, a, b):\n",
    "        return a / b if b != 0 else \"Error! Division by zero\"\n",
    "\n",
    "\n",
    "# Example\n",
    "calc = Calculator()\n",
    "\n",
    "print(\"Add:\", calc.add(10, 5))\n",
    "print(\"Subtract:\", calc.subtract(10, 5))\n",
    "print(\"Multiply:\", calc.multiply(10, 5))\n",
    "print(\"Divide:\", calc.divide(10, 5))\n"
   ]
  },
  {
   "cell_type": "code",
   "execution_count": null,
   "id": "8a7f3723-97be-45a6-ae2e-d3cd1a143b54",
   "metadata": {},
   "outputs": [],
   "source": []
  }
 ],
 "metadata": {
  "kernelspec": {
   "display_name": "Python 3 (ipykernel)",
   "language": "python",
   "name": "python3"
  },
  "language_info": {
   "codemirror_mode": {
    "name": "ipython",
    "version": 3
   },
   "file_extension": ".py",
   "mimetype": "text/x-python",
   "name": "python",
   "nbconvert_exporter": "python",
   "pygments_lexer": "ipython3",
   "version": "3.13.5"
  }
 },
 "nbformat": 4,
 "nbformat_minor": 5
}
